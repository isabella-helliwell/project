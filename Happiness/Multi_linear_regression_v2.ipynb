{
 "cells": [
  {
   "cell_type": "markdown",
   "metadata": {},
   "source": [
    "### Notes:\n",
    "In v2, the full dataset has been used to train the model from https://worldhappiness.report/\n",
    "DataPanelWHR2021C2.xls, and has been filtered to remove any empty rows, all years have been used from 2008-2020"
   ]
  },
  {
   "cell_type": "code",
   "execution_count": 42,
   "metadata": {
    "slideshow": {
     "slide_type": "skip"
    }
   },
   "outputs": [],
   "source": [
    "%matplotlib inline\n",
    "import matplotlib.pyplot as plt\n",
    "from sklearn import linear_model   \n",
    "import pandas as pd\n",
    "import numpy as np"
   ]
  },
  {
   "cell_type": "code",
   "execution_count": 43,
   "metadata": {},
   "outputs": [],
   "source": [
    "file = '../Data/Life_Ladder_All_Years_csv.csv'\n",
    "df = pd.read_csv(file)\n"
   ]
  },
  {
   "cell_type": "markdown",
   "metadata": {
    "slideshow": {
     "slide_type": "slide"
    }
   },
   "source": [
    "# Multiple Linear Regression"
   ]
  },
  {
   "cell_type": "markdown",
   "metadata": {
    "slideshow": {
     "slide_type": "subslide"
    }
   },
   "source": [
    "Multiple linear regression simply means that you have more than one feature variable.\n",
    "\n",
    "Note: The weights are how important each feature is to the equation. This is the part that the algorithm has to learn."
   ]
  },
  {
   "cell_type": "markdown",
   "metadata": {
    "slideshow": {
     "slide_type": "fragment"
    }
   },
   "source": [
    "The generic formula is:\n",
    "\n",
    "$Y_i = Bias_0 + Weight_1 Feature_1 + Weight_2 Feature_2 + \\ldots + Weight_p Feature_p$"
   ]
  },
  {
   "cell_type": "code",
   "execution_count": 44,
   "metadata": {},
   "outputs": [
    {
     "data": {
      "text/html": [
       "<div>\n",
       "<style scoped>\n",
       "    .dataframe tbody tr th:only-of-type {\n",
       "        vertical-align: middle;\n",
       "    }\n",
       "\n",
       "    .dataframe tbody tr th {\n",
       "        vertical-align: top;\n",
       "    }\n",
       "\n",
       "    .dataframe thead th {\n",
       "        text-align: right;\n",
       "    }\n",
       "</style>\n",
       "<table border=\"1\" class=\"dataframe\">\n",
       "  <thead>\n",
       "    <tr style=\"text-align: right;\">\n",
       "      <th></th>\n",
       "      <th>Country name</th>\n",
       "      <th>Life Ladder</th>\n",
       "      <th>Log GDP per capita</th>\n",
       "      <th>Social support</th>\n",
       "      <th>Healthy life expectancy at birth</th>\n",
       "      <th>Freedom to make life choices</th>\n",
       "      <th>Generosity</th>\n",
       "      <th>Perceptions of corruption</th>\n",
       "      <th>Positive affect</th>\n",
       "      <th>Negative affect</th>\n",
       "    </tr>\n",
       "  </thead>\n",
       "  <tbody>\n",
       "    <tr>\n",
       "      <th>2088</th>\n",
       "      <td>Zimbabwe</td>\n",
       "      <td>4.955</td>\n",
       "      <td>7.983</td>\n",
       "      <td>0.896</td>\n",
       "      <td>49.540</td>\n",
       "      <td>0.470</td>\n",
       "      <td>-0.103</td>\n",
       "      <td>0.859</td>\n",
       "      <td>0.669</td>\n",
       "      <td>0.177</td>\n",
       "    </tr>\n",
       "    <tr>\n",
       "      <th>2089</th>\n",
       "      <td>Zimbabwe</td>\n",
       "      <td>4.690</td>\n",
       "      <td>7.985</td>\n",
       "      <td>0.799</td>\n",
       "      <td>50.960</td>\n",
       "      <td>0.576</td>\n",
       "      <td>-0.104</td>\n",
       "      <td>0.831</td>\n",
       "      <td>0.712</td>\n",
       "      <td>0.182</td>\n",
       "    </tr>\n",
       "    <tr>\n",
       "      <th>2090</th>\n",
       "      <td>Zimbabwe</td>\n",
       "      <td>4.184</td>\n",
       "      <td>7.991</td>\n",
       "      <td>0.766</td>\n",
       "      <td>52.380</td>\n",
       "      <td>0.642</td>\n",
       "      <td>-0.074</td>\n",
       "      <td>0.820</td>\n",
       "      <td>0.725</td>\n",
       "      <td>0.239</td>\n",
       "    </tr>\n",
       "    <tr>\n",
       "      <th>2091</th>\n",
       "      <td>Zimbabwe</td>\n",
       "      <td>3.703</td>\n",
       "      <td>7.992</td>\n",
       "      <td>0.736</td>\n",
       "      <td>53.800</td>\n",
       "      <td>0.667</td>\n",
       "      <td>-0.123</td>\n",
       "      <td>0.810</td>\n",
       "      <td>0.715</td>\n",
       "      <td>0.179</td>\n",
       "    </tr>\n",
       "    <tr>\n",
       "      <th>2092</th>\n",
       "      <td>Zimbabwe</td>\n",
       "      <td>3.735</td>\n",
       "      <td>7.984</td>\n",
       "      <td>0.768</td>\n",
       "      <td>54.400</td>\n",
       "      <td>0.733</td>\n",
       "      <td>-0.095</td>\n",
       "      <td>0.724</td>\n",
       "      <td>0.738</td>\n",
       "      <td>0.209</td>\n",
       "    </tr>\n",
       "    <tr>\n",
       "      <th>2093</th>\n",
       "      <td>Zimbabwe</td>\n",
       "      <td>3.638</td>\n",
       "      <td>8.016</td>\n",
       "      <td>0.754</td>\n",
       "      <td>55.000</td>\n",
       "      <td>0.753</td>\n",
       "      <td>-0.098</td>\n",
       "      <td>0.751</td>\n",
       "      <td>0.806</td>\n",
       "      <td>0.224</td>\n",
       "    </tr>\n",
       "    <tr>\n",
       "      <th>2094</th>\n",
       "      <td>Zimbabwe</td>\n",
       "      <td>3.616</td>\n",
       "      <td>8.049</td>\n",
       "      <td>0.775</td>\n",
       "      <td>55.600</td>\n",
       "      <td>0.763</td>\n",
       "      <td>-0.068</td>\n",
       "      <td>0.844</td>\n",
       "      <td>0.710</td>\n",
       "      <td>0.212</td>\n",
       "    </tr>\n",
       "    <tr>\n",
       "      <th>2095</th>\n",
       "      <td>Zimbabwe</td>\n",
       "      <td>2.694</td>\n",
       "      <td>7.950</td>\n",
       "      <td>0.759</td>\n",
       "      <td>56.200</td>\n",
       "      <td>0.632</td>\n",
       "      <td>-0.064</td>\n",
       "      <td>0.831</td>\n",
       "      <td>0.716</td>\n",
       "      <td>0.235</td>\n",
       "    </tr>\n",
       "    <tr>\n",
       "      <th>2096</th>\n",
       "      <td>Zimbabwe</td>\n",
       "      <td>3.160</td>\n",
       "      <td>7.829</td>\n",
       "      <td>0.717</td>\n",
       "      <td>56.800</td>\n",
       "      <td>0.643</td>\n",
       "      <td>-0.009</td>\n",
       "      <td>0.789</td>\n",
       "      <td>0.703</td>\n",
       "      <td>0.346</td>\n",
       "    </tr>\n",
       "    <tr>\n",
       "      <th>2097</th>\n",
       "      <td>Zimbabwe</td>\n",
       "      <td>3.145</td>\n",
       "      <td>7.943</td>\n",
       "      <td>0.750</td>\n",
       "      <td>56.201</td>\n",
       "      <td>0.677</td>\n",
       "      <td>-0.047</td>\n",
       "      <td>0.821</td>\n",
       "      <td>NaN</td>\n",
       "      <td>NaN</td>\n",
       "    </tr>\n",
       "  </tbody>\n",
       "</table>\n",
       "</div>"
      ],
      "text/plain": [
       "     Country name  Life Ladder  Log GDP per capita  Social support  \\\n",
       "2088     Zimbabwe        4.955               7.983           0.896   \n",
       "2089     Zimbabwe        4.690               7.985           0.799   \n",
       "2090     Zimbabwe        4.184               7.991           0.766   \n",
       "2091     Zimbabwe        3.703               7.992           0.736   \n",
       "2092     Zimbabwe        3.735               7.984           0.768   \n",
       "2093     Zimbabwe        3.638               8.016           0.754   \n",
       "2094     Zimbabwe        3.616               8.049           0.775   \n",
       "2095     Zimbabwe        2.694               7.950           0.759   \n",
       "2096     Zimbabwe        3.160               7.829           0.717   \n",
       "2097     Zimbabwe        3.145               7.943           0.750   \n",
       "\n",
       "      Healthy life expectancy at birth  Freedom to make life choices  \\\n",
       "2088                            49.540                         0.470   \n",
       "2089                            50.960                         0.576   \n",
       "2090                            52.380                         0.642   \n",
       "2091                            53.800                         0.667   \n",
       "2092                            54.400                         0.733   \n",
       "2093                            55.000                         0.753   \n",
       "2094                            55.600                         0.763   \n",
       "2095                            56.200                         0.632   \n",
       "2096                            56.800                         0.643   \n",
       "2097                            56.201                         0.677   \n",
       "\n",
       "      Generosity  Perceptions of corruption  Positive affect  Negative affect  \n",
       "2088      -0.103                      0.859            0.669            0.177  \n",
       "2089      -0.104                      0.831            0.712            0.182  \n",
       "2090      -0.074                      0.820            0.725            0.239  \n",
       "2091      -0.123                      0.810            0.715            0.179  \n",
       "2092      -0.095                      0.724            0.738            0.209  \n",
       "2093      -0.098                      0.751            0.806            0.224  \n",
       "2094      -0.068                      0.844            0.710            0.212  \n",
       "2095      -0.064                      0.831            0.716            0.235  \n",
       "2096      -0.009                      0.789            0.703            0.346  \n",
       "2097      -0.047                      0.821              NaN              NaN  "
      ]
     },
     "execution_count": 44,
     "metadata": {},
     "output_type": "execute_result"
    }
   ],
   "source": [
    "df.tail(10)"
   ]
  },
  {
   "cell_type": "code",
   "execution_count": 45,
   "metadata": {},
   "outputs": [
    {
     "data": {
      "text/plain": [
       "Country name                        2098\n",
       "Life Ladder                         2098\n",
       "Log GDP per capita                  2062\n",
       "Social support                      2085\n",
       "Healthy life expectancy at birth    2043\n",
       "Freedom to make life choices        2066\n",
       "Generosity                          2009\n",
       "Perceptions of corruption           1988\n",
       "Positive affect                     1927\n",
       "Negative affect                     1933\n",
       "dtype: int64"
      ]
     },
     "execution_count": 45,
     "metadata": {},
     "output_type": "execute_result"
    }
   ],
   "source": [
    "df.count()"
   ]
  },
  {
   "cell_type": "code",
   "execution_count": 46,
   "metadata": {},
   "outputs": [
    {
     "data": {
      "text/plain": [
       "Country name                        2098\n",
       "Life Ladder                         2098\n",
       "Log GDP per capita                  2062\n",
       "Social support                      2085\n",
       "Healthy life expectancy at birth    2043\n",
       "Freedom to make life choices        2066\n",
       "Generosity                          2009\n",
       "Perceptions of corruption           1988\n",
       "Positive affect                     1927\n",
       "Negative affect                     1933\n",
       "dtype: int64"
      ]
     },
     "execution_count": 46,
     "metadata": {},
     "output_type": "execute_result"
    }
   ],
   "source": [
    "clean_data=df\n",
    "clean_data.count()"
   ]
  },
  {
   "cell_type": "code",
   "execution_count": 47,
   "metadata": {},
   "outputs": [
    {
     "data": {
      "text/plain": [
       "Country name                          0\n",
       "Life Ladder                           0\n",
       "Log GDP per capita                   36\n",
       "Social support                       13\n",
       "Healthy life expectancy at birth     55\n",
       "Freedom to make life choices         32\n",
       "Generosity                           89\n",
       "Perceptions of corruption           110\n",
       "Positive affect                     171\n",
       "Negative affect                     165\n",
       "dtype: int64"
      ]
     },
     "execution_count": 47,
     "metadata": {},
     "output_type": "execute_result"
    }
   ],
   "source": [
    "#getting the number of empty rows\n",
    "clean_data.isnull().sum()"
   ]
  },
  {
   "cell_type": "code",
   "execution_count": 48,
   "metadata": {},
   "outputs": [],
   "source": [
    "clean_data.dropna(inplace=True)"
   ]
  },
  {
   "cell_type": "code",
   "execution_count": 49,
   "metadata": {},
   "outputs": [
    {
     "data": {
      "text/html": [
       "<div>\n",
       "<style scoped>\n",
       "    .dataframe tbody tr th:only-of-type {\n",
       "        vertical-align: middle;\n",
       "    }\n",
       "\n",
       "    .dataframe tbody tr th {\n",
       "        vertical-align: top;\n",
       "    }\n",
       "\n",
       "    .dataframe thead th {\n",
       "        text-align: right;\n",
       "    }\n",
       "</style>\n",
       "<table border=\"1\" class=\"dataframe\">\n",
       "  <thead>\n",
       "    <tr style=\"text-align: right;\">\n",
       "      <th></th>\n",
       "      <th>Country name</th>\n",
       "      <th>Life Ladder</th>\n",
       "      <th>Log GDP per capita</th>\n",
       "      <th>Social support</th>\n",
       "      <th>Healthy life expectancy at birth</th>\n",
       "      <th>Freedom to make life choices</th>\n",
       "      <th>Generosity</th>\n",
       "      <th>Perceptions of corruption</th>\n",
       "      <th>Positive affect</th>\n",
       "      <th>Negative affect</th>\n",
       "    </tr>\n",
       "  </thead>\n",
       "  <tbody>\n",
       "    <tr>\n",
       "      <th>0</th>\n",
       "      <td>Afghanistan</td>\n",
       "      <td>3.724</td>\n",
       "      <td>7.370</td>\n",
       "      <td>0.451</td>\n",
       "      <td>50.80</td>\n",
       "      <td>0.718</td>\n",
       "      <td>0.168</td>\n",
       "      <td>0.882</td>\n",
       "      <td>0.518</td>\n",
       "      <td>0.258</td>\n",
       "    </tr>\n",
       "    <tr>\n",
       "      <th>1</th>\n",
       "      <td>Afghanistan</td>\n",
       "      <td>4.402</td>\n",
       "      <td>7.540</td>\n",
       "      <td>0.552</td>\n",
       "      <td>51.20</td>\n",
       "      <td>0.679</td>\n",
       "      <td>0.190</td>\n",
       "      <td>0.850</td>\n",
       "      <td>0.584</td>\n",
       "      <td>0.237</td>\n",
       "    </tr>\n",
       "    <tr>\n",
       "      <th>2</th>\n",
       "      <td>Afghanistan</td>\n",
       "      <td>4.758</td>\n",
       "      <td>7.647</td>\n",
       "      <td>0.539</td>\n",
       "      <td>51.60</td>\n",
       "      <td>0.600</td>\n",
       "      <td>0.121</td>\n",
       "      <td>0.707</td>\n",
       "      <td>0.618</td>\n",
       "      <td>0.275</td>\n",
       "    </tr>\n",
       "    <tr>\n",
       "      <th>3</th>\n",
       "      <td>Afghanistan</td>\n",
       "      <td>3.832</td>\n",
       "      <td>7.620</td>\n",
       "      <td>0.521</td>\n",
       "      <td>51.92</td>\n",
       "      <td>0.496</td>\n",
       "      <td>0.162</td>\n",
       "      <td>0.731</td>\n",
       "      <td>0.611</td>\n",
       "      <td>0.267</td>\n",
       "    </tr>\n",
       "    <tr>\n",
       "      <th>4</th>\n",
       "      <td>Afghanistan</td>\n",
       "      <td>3.783</td>\n",
       "      <td>7.705</td>\n",
       "      <td>0.521</td>\n",
       "      <td>52.24</td>\n",
       "      <td>0.531</td>\n",
       "      <td>0.236</td>\n",
       "      <td>0.776</td>\n",
       "      <td>0.710</td>\n",
       "      <td>0.268</td>\n",
       "    </tr>\n",
       "    <tr>\n",
       "      <th>5</th>\n",
       "      <td>Afghanistan</td>\n",
       "      <td>3.572</td>\n",
       "      <td>7.725</td>\n",
       "      <td>0.484</td>\n",
       "      <td>52.56</td>\n",
       "      <td>0.578</td>\n",
       "      <td>0.061</td>\n",
       "      <td>0.823</td>\n",
       "      <td>0.621</td>\n",
       "      <td>0.273</td>\n",
       "    </tr>\n",
       "    <tr>\n",
       "      <th>6</th>\n",
       "      <td>Afghanistan</td>\n",
       "      <td>3.131</td>\n",
       "      <td>7.718</td>\n",
       "      <td>0.526</td>\n",
       "      <td>52.88</td>\n",
       "      <td>0.509</td>\n",
       "      <td>0.104</td>\n",
       "      <td>0.871</td>\n",
       "      <td>0.532</td>\n",
       "      <td>0.375</td>\n",
       "    </tr>\n",
       "    <tr>\n",
       "      <th>7</th>\n",
       "      <td>Afghanistan</td>\n",
       "      <td>3.983</td>\n",
       "      <td>7.702</td>\n",
       "      <td>0.529</td>\n",
       "      <td>53.20</td>\n",
       "      <td>0.389</td>\n",
       "      <td>0.080</td>\n",
       "      <td>0.881</td>\n",
       "      <td>0.554</td>\n",
       "      <td>0.339</td>\n",
       "    </tr>\n",
       "    <tr>\n",
       "      <th>8</th>\n",
       "      <td>Afghanistan</td>\n",
       "      <td>4.220</td>\n",
       "      <td>7.697</td>\n",
       "      <td>0.559</td>\n",
       "      <td>53.00</td>\n",
       "      <td>0.523</td>\n",
       "      <td>0.042</td>\n",
       "      <td>0.793</td>\n",
       "      <td>0.565</td>\n",
       "      <td>0.348</td>\n",
       "    </tr>\n",
       "    <tr>\n",
       "      <th>9</th>\n",
       "      <td>Afghanistan</td>\n",
       "      <td>2.662</td>\n",
       "      <td>7.697</td>\n",
       "      <td>0.491</td>\n",
       "      <td>52.80</td>\n",
       "      <td>0.427</td>\n",
       "      <td>-0.121</td>\n",
       "      <td>0.954</td>\n",
       "      <td>0.496</td>\n",
       "      <td>0.371</td>\n",
       "    </tr>\n",
       "  </tbody>\n",
       "</table>\n",
       "</div>"
      ],
      "text/plain": [
       "  Country name  Life Ladder  Log GDP per capita  Social support  \\\n",
       "0  Afghanistan        3.724               7.370           0.451   \n",
       "1  Afghanistan        4.402               7.540           0.552   \n",
       "2  Afghanistan        4.758               7.647           0.539   \n",
       "3  Afghanistan        3.832               7.620           0.521   \n",
       "4  Afghanistan        3.783               7.705           0.521   \n",
       "5  Afghanistan        3.572               7.725           0.484   \n",
       "6  Afghanistan        3.131               7.718           0.526   \n",
       "7  Afghanistan        3.983               7.702           0.529   \n",
       "8  Afghanistan        4.220               7.697           0.559   \n",
       "9  Afghanistan        2.662               7.697           0.491   \n",
       "\n",
       "   Healthy life expectancy at birth  Freedom to make life choices  Generosity  \\\n",
       "0                             50.80                         0.718       0.168   \n",
       "1                             51.20                         0.679       0.190   \n",
       "2                             51.60                         0.600       0.121   \n",
       "3                             51.92                         0.496       0.162   \n",
       "4                             52.24                         0.531       0.236   \n",
       "5                             52.56                         0.578       0.061   \n",
       "6                             52.88                         0.509       0.104   \n",
       "7                             53.20                         0.389       0.080   \n",
       "8                             53.00                         0.523       0.042   \n",
       "9                             52.80                         0.427      -0.121   \n",
       "\n",
       "   Perceptions of corruption  Positive affect  Negative affect  \n",
       "0                      0.882            0.518            0.258  \n",
       "1                      0.850            0.584            0.237  \n",
       "2                      0.707            0.618            0.275  \n",
       "3                      0.731            0.611            0.267  \n",
       "4                      0.776            0.710            0.268  \n",
       "5                      0.823            0.621            0.273  \n",
       "6                      0.871            0.532            0.375  \n",
       "7                      0.881            0.554            0.339  \n",
       "8                      0.793            0.565            0.348  \n",
       "9                      0.954            0.496            0.371  "
      ]
     },
     "execution_count": 49,
     "metadata": {},
     "output_type": "execute_result"
    }
   ],
   "source": [
    "clean_data.head(10)"
   ]
  },
  {
   "cell_type": "code",
   "execution_count": 50,
   "metadata": {},
   "outputs": [
    {
     "data": {
      "text/plain": [
       "Country name                        0\n",
       "Life Ladder                         0\n",
       "Log GDP per capita                  0\n",
       "Social support                      0\n",
       "Healthy life expectancy at birth    0\n",
       "Freedom to make life choices        0\n",
       "Generosity                          0\n",
       "Perceptions of corruption           0\n",
       "Positive affect                     0\n",
       "Negative affect                     0\n",
       "dtype: int64"
      ]
     },
     "execution_count": 50,
     "metadata": {},
     "output_type": "execute_result"
    }
   ],
   "source": [
    "clean_data.isnull().sum()"
   ]
  },
  {
   "cell_type": "code",
   "execution_count": 51,
   "metadata": {},
   "outputs": [],
   "source": [
    "\n",
    "\n",
    "#clean_data.to_csv('cleaned_data_all_years.csv', index=False)\n"
   ]
  },
  {
   "cell_type": "code",
   "execution_count": 52,
   "metadata": {},
   "outputs": [
    {
     "data": {
      "text/plain": [
       "Country name                        1708\n",
       "Life Ladder                         1708\n",
       "Log GDP per capita                  1708\n",
       "Social support                      1708\n",
       "Healthy life expectancy at birth    1708\n",
       "Freedom to make life choices        1708\n",
       "Generosity                          1708\n",
       "Perceptions of corruption           1708\n",
       "Positive affect                     1708\n",
       "Negative affect                     1708\n",
       "dtype: int64"
      ]
     },
     "execution_count": 52,
     "metadata": {},
     "output_type": "execute_result"
    }
   ],
   "source": [
    "clean_data.count()"
   ]
  },
  {
   "cell_type": "code",
   "execution_count": 53,
   "metadata": {},
   "outputs": [
    {
     "data": {
      "text/plain": [
       "Country name                         object\n",
       "Life Ladder                         float64\n",
       "Log GDP per capita                  float64\n",
       "Social support                      float64\n",
       "Healthy life expectancy at birth    float64\n",
       "Freedom to make life choices        float64\n",
       "Generosity                          float64\n",
       "Perceptions of corruption           float64\n",
       "Positive affect                     float64\n",
       "Negative affect                     float64\n",
       "dtype: object"
      ]
     },
     "execution_count": 53,
     "metadata": {},
     "output_type": "execute_result"
    }
   ],
   "source": [
    "clean_data.dtypes"
   ]
  },
  {
   "cell_type": "code",
   "execution_count": 54,
   "metadata": {},
   "outputs": [],
   "source": [
    "clean_data = df.drop(columns=['Country name'])"
   ]
  },
  {
   "cell_type": "markdown",
   "metadata": {},
   "source": [
    "#### Define Features, Target\n",
    "#### Split Data into Training & Test\n",
    "#### Fit the model"
   ]
  },
  {
   "cell_type": "code",
   "execution_count": 55,
   "metadata": {},
   "outputs": [],
   "source": [
    "X = clean_data.drop(columns='Life Ladder', axis=1)\n",
    "y= clean_data['Life Ladder']"
   ]
  },
  {
   "cell_type": "code",
   "execution_count": 56,
   "metadata": {},
   "outputs": [],
   "source": [
    "from sklearn.model_selection import train_test_split\n",
    "from collections import Counter\n",
    "#70% of data is for training the dataset, & 30% is for testing dataset\n",
    "X_train, X_test, y_train, y_test = train_test_split(X, y, test_size=0.3, random_state=1)\n",
    "#Counter(y_train)"
   ]
  },
  {
   "cell_type": "code",
   "execution_count": null,
   "metadata": {},
   "outputs": [],
   "source": []
  },
  {
   "cell_type": "markdown",
   "metadata": {},
   "source": [
    "### Implement a linear model:"
   ]
  },
  {
   "cell_type": "code",
   "execution_count": 57,
   "metadata": {},
   "outputs": [
    {
     "data": {
      "text/plain": [
       "LinearRegression()"
      ]
     },
     "execution_count": 57,
     "metadata": {},
     "output_type": "execute_result"
    }
   ],
   "source": [
    "from sklearn.linear_model import LinearRegression\n",
    "model = LinearRegression()\n",
    "# Fitting our model with all our features in X\n",
    "model.fit(X_train, y_train)"
   ]
  },
  {
   "cell_type": "markdown",
   "metadata": {},
   "source": [
    "#### Model equation $y_i = \\beta_0 + \\beta_1x_{i1} + \\beta_2 x_{i2} + \\ldots + \\beta_p x_{ip} + \\epsilon $\n",
    "#### $y_i = dependent variable $\n",
    "#### $x_i = expanatory variables $\n",
    "#### $\\beta_0 = y-intercept $\n",
    "#### $\\beta_p = slope coefficient for each explanatory variable $\n",
    "#### $\\epsilon = the models error term (also known as residuals $\n",
    "\n",
    " source: https://www.c-sharpcorner.com/article/multiple-linear-regression/"
   ]
  },
  {
   "cell_type": "code",
   "execution_count": 58,
   "metadata": {},
   "outputs": [
    {
     "name": "stdout",
     "output_type": "stream",
     "text": [
      "Intercept:  -2.918000282662983\n",
      "Coefficients:\n"
     ]
    },
    {
     "data": {
      "text/plain": [
       "[('Log GDP per capita', 0.40974577951707497),\n",
       " ('Social support', 1.8560230911797295),\n",
       " ('Healthy life expectancy at birth', 0.024935227513056303),\n",
       " ('Freedom to make life choices', 0.3957873926168737),\n",
       " ('Generosity', 0.2816472373648208),\n",
       " ('Perceptions of corruption', -0.6780913601960373),\n",
       " ('Positive affect', 2.225376527088204),\n",
       " ('Negative affect', 0.3598311704931134)]"
      ]
     },
     "execution_count": 58,
     "metadata": {},
     "output_type": "execute_result"
    }
   ],
   "source": [
    "print(\"Intercept: \", model.intercept_)\n",
    "print(\"Coefficients:\")\n",
    "list(zip(X, model.coef_))"
   ]
  },
  {
   "cell_type": "markdown",
   "metadata": {},
   "source": [
    "##### Regression Equation: \n",
    " Happiness_Ladder = -2.92 +(0.41*Log_GDP_percapita)+(1.86*Social_support)+(0.02*Healthy _life_expectancy_at_birth)+ (0.4*Freedom_to_make_life_choices)+(0.28*Generosity)+(-0.6.78*Perceptions_of_corruption)+(2.23*Positive_affect)+(0.36*Negative_affect) + e\n",
    " \n",
    " "
   ]
  },
  {
   "cell_type": "code",
   "execution_count": 59,
   "metadata": {},
   "outputs": [
    {
     "name": "stdout",
     "output_type": "stream",
     "text": [
      "Prediction for test set: [5.335 4.370 5.700 7.245 4.953 5.503 5.738 6.506 7.093 7.449 7.024 4.541\n",
      " 5.233 6.777 5.701 3.343 4.572 5.682 5.315 4.812 6.725 5.350 7.177 4.320\n",
      " 5.342 6.109 5.653 5.302 6.231 7.324 5.388 6.155 7.241 4.153 5.544 4.457\n",
      " 6.241 6.217 6.199 5.658 4.216 3.997 6.139 6.446 4.053 6.310 4.245 3.825\n",
      " 5.579 4.461 5.003 5.072 5.608 2.182 5.407 5.514 5.609 6.109 4.796 6.070\n",
      " 7.218 3.578 5.497 3.279 6.457 3.781 4.177 5.265 5.999 5.602 3.727 5.985\n",
      " 6.004 4.031 6.950 7.193 5.182 5.966 5.740 4.716 5.648 6.030 4.544 5.517\n",
      " 4.579 7.156 7.169 3.877 5.646 5.699 4.424 3.981 4.905 5.207 4.734 5.642\n",
      " 5.422 6.643 5.653 5.948 3.617 6.800 4.628 4.492 4.844 6.016 3.545 4.540\n",
      " 5.368 4.764 4.275 5.616 3.818 7.413 5.819 3.960 7.171 5.577 5.274 7.193\n",
      " 6.792 7.217 5.054 6.239 5.661 5.261 5.770 7.317 7.069 5.718 7.166 3.659\n",
      " 5.635 4.623 6.533 5.032 4.703 4.037 4.165 5.577 6.002 6.658 4.894 4.205\n",
      " 5.565 6.343 4.658 5.056 5.643 5.849 5.244 5.173 6.293 6.565 5.744 5.878\n",
      " 6.057 4.420 3.668 3.663 3.605 5.958 3.903 6.855 5.958 4.983 6.197 4.557\n",
      " 3.809 5.783 3.577 6.617 5.835 5.130 5.906 5.067 4.511 5.458 5.925 5.996\n",
      " 6.611 4.837 5.563 5.392 3.185 4.822 7.184 5.453 5.368 4.346 4.675 4.441\n",
      " 6.342 3.757 6.219 3.638 5.312 7.082 4.815 4.624 6.052 7.181 4.638 5.565\n",
      " 5.627 6.816 4.288 6.200 5.541 6.174 4.978 6.654 5.934 5.822 4.487 4.435\n",
      " 4.376 5.209 5.323 7.379 5.854 7.024 4.733 6.919 5.329 5.500 7.265 6.352\n",
      " 6.273 6.292 5.872 6.092 3.982 4.148 6.845 4.415 5.406 4.632 5.331 4.861\n",
      " 5.519 4.186 4.786 4.811 4.852 7.316 5.750 7.146 5.120 6.425 3.760 4.854\n",
      " 4.788 4.490 6.346 3.594 5.691 7.217 4.605 5.110 3.182 6.066 4.498 4.728\n",
      " 5.244 6.535 6.283 7.186 4.924 5.262 5.193 5.480 3.916 5.890 6.185 7.317\n",
      " 4.716 4.770 5.527 4.719 4.821 5.252 3.381 5.357 5.701 5.586 7.236 5.737\n",
      " 4.299 7.153 5.344 5.377 4.966 4.923 5.946 5.241 6.084 2.895 6.282 4.008\n",
      " 4.762 4.360 5.385 5.964 5.301 5.496 4.915 3.911 4.483 4.794 5.926 5.124\n",
      " 5.810 6.628 4.638 3.995 6.207 4.646 5.039 6.036 6.538 5.547 5.596 4.502\n",
      " 4.853 5.426 6.417 3.351 4.630 5.292 5.573 7.199 6.112 5.772 7.012 6.126\n",
      " 5.075 5.145 5.283 4.117 5.120 5.812 4.417 4.624 6.709 4.130 4.461 5.539\n",
      " 5.531 7.004 3.893 4.497 5.560 5.193 6.305 6.774 2.915 5.810 5.792 5.913\n",
      " 7.137 5.712 6.915 5.404 5.732 3.435 6.218 6.710 6.803 3.453 5.753 7.265\n",
      " 3.734 5.494 5.322 7.286 6.198 4.262 6.213 5.928 3.692 6.237 3.813 5.251\n",
      " 5.346 7.235 6.155 4.479 6.775 4.221 4.115 7.277 4.038 5.413 7.255 7.195\n",
      " 6.052 6.087 5.863 5.486 5.426 5.727 4.467 5.567 7.281 5.778 4.810 6.842\n",
      " 5.995 5.972 5.673 7.209 4.552 4.118 4.446 6.450 5.924 5.475 6.104 6.094\n",
      " 4.107 5.914 6.402 6.231 5.603 4.206 5.894 5.003 5.459 5.536 3.891 5.880\n",
      " 5.691 2.798 5.620 4.928 4.693 6.772 5.341 5.545 7.042 5.800 3.741 4.489\n",
      " 3.642 5.287 5.970 4.575 5.287 6.564 6.023 5.086 4.619 4.378 3.952 7.261\n",
      " 5.868 6.025 6.483 5.371 5.147 5.941 6.902 5.712 5.513 5.016 5.325 5.630\n",
      " 5.516 5.770 4.400 6.408 7.138 4.214 5.346 4.721 4.995 5.170 6.742 5.769\n",
      " 6.684 5.097 7.158 5.888 6.857 5.542 4.974 4.306 7.185 4.393 7.273 3.674\n",
      " 5.880 6.089 5.824 5.331 6.005 5.807 7.417 6.304 5.723 5.957 5.328 7.028\n",
      " 5.777 6.279 4.656 6.168 5.288 4.901 3.557 4.130 4.035]\n"
     ]
    }
   ],
   "source": [
    "y_pred = model.predict(X_test)\n",
    "print(\"Prediction for test set: {}\".format(y_pred))"
   ]
  },
  {
   "cell_type": "code",
   "execution_count": null,
   "metadata": {},
   "outputs": [],
   "source": []
  },
  {
   "cell_type": "code",
   "execution_count": 60,
   "metadata": {},
   "outputs": [],
   "source": [
    "results = pd.DataFrame( {\"Actual value\": y_test, \"Predicted value\": y_pred}).reset_index(drop=True)"
   ]
  },
  {
   "cell_type": "code",
   "execution_count": 61,
   "metadata": {},
   "outputs": [
    {
     "data": {
      "text/html": [
       "<div>\n",
       "<style scoped>\n",
       "    .dataframe tbody tr th:only-of-type {\n",
       "        vertical-align: middle;\n",
       "    }\n",
       "\n",
       "    .dataframe tbody tr th {\n",
       "        vertical-align: top;\n",
       "    }\n",
       "\n",
       "    .dataframe thead th {\n",
       "        text-align: right;\n",
       "    }\n",
       "</style>\n",
       "<table border=\"1\" class=\"dataframe\">\n",
       "  <thead>\n",
       "    <tr style=\"text-align: right;\">\n",
       "      <th></th>\n",
       "      <th>Actual value</th>\n",
       "      <th>Predicted value</th>\n",
       "    </tr>\n",
       "  </thead>\n",
       "  <tbody>\n",
       "    <tr>\n",
       "      <th>0</th>\n",
       "      <td>5.389</td>\n",
       "      <td>5.334696</td>\n",
       "    </tr>\n",
       "    <tr>\n",
       "      <th>1</th>\n",
       "      <td>3.512</td>\n",
       "      <td>4.370169</td>\n",
       "    </tr>\n",
       "    <tr>\n",
       "      <th>2</th>\n",
       "      <td>4.730</td>\n",
       "      <td>5.700028</td>\n",
       "    </tr>\n",
       "    <tr>\n",
       "      <th>3</th>\n",
       "      <td>7.239</td>\n",
       "      <td>7.244589</td>\n",
       "    </tr>\n",
       "    <tr>\n",
       "      <th>4</th>\n",
       "      <td>4.349</td>\n",
       "      <td>4.953167</td>\n",
       "    </tr>\n",
       "    <tr>\n",
       "      <th>5</th>\n",
       "      <td>5.559</td>\n",
       "      <td>5.502649</td>\n",
       "    </tr>\n",
       "    <tr>\n",
       "      <th>6</th>\n",
       "      <td>5.772</td>\n",
       "      <td>5.738159</td>\n",
       "    </tr>\n",
       "    <tr>\n",
       "      <th>7</th>\n",
       "      <td>6.417</td>\n",
       "      <td>6.505676</td>\n",
       "    </tr>\n",
       "    <tr>\n",
       "      <th>8</th>\n",
       "      <td>7.109</td>\n",
       "      <td>7.092961</td>\n",
       "    </tr>\n",
       "    <tr>\n",
       "      <th>9</th>\n",
       "      <td>6.375</td>\n",
       "      <td>7.449044</td>\n",
       "    </tr>\n",
       "    <tr>\n",
       "      <th>10</th>\n",
       "      <td>7.385</td>\n",
       "      <td>7.023923</td>\n",
       "    </tr>\n",
       "    <tr>\n",
       "      <th>11</th>\n",
       "      <td>4.432</td>\n",
       "      <td>4.541289</td>\n",
       "    </tr>\n",
       "    <tr>\n",
       "      <th>12</th>\n",
       "      <td>5.097</td>\n",
       "      <td>5.233121</td>\n",
       "    </tr>\n",
       "    <tr>\n",
       "      <th>13</th>\n",
       "      <td>6.883</td>\n",
       "      <td>6.776871</td>\n",
       "    </tr>\n",
       "    <tr>\n",
       "      <th>14</th>\n",
       "      <td>5.374</td>\n",
       "      <td>5.701352</td>\n",
       "    </tr>\n",
       "  </tbody>\n",
       "</table>\n",
       "</div>"
      ],
      "text/plain": [
       "    Actual value  Predicted value\n",
       "0          5.389         5.334696\n",
       "1          3.512         4.370169\n",
       "2          4.730         5.700028\n",
       "3          7.239         7.244589\n",
       "4          4.349         4.953167\n",
       "5          5.559         5.502649\n",
       "6          5.772         5.738159\n",
       "7          6.417         6.505676\n",
       "8          7.109         7.092961\n",
       "9          6.375         7.449044\n",
       "10         7.385         7.023923\n",
       "11         4.432         4.541289\n",
       "12         5.097         5.233121\n",
       "13         6.883         6.776871\n",
       "14         5.374         5.701352"
      ]
     },
     "execution_count": 61,
     "metadata": {},
     "output_type": "execute_result"
    }
   ],
   "source": [
    "results.head(15)"
   ]
  },
  {
   "cell_type": "code",
   "execution_count": null,
   "metadata": {},
   "outputs": [],
   "source": []
  },
  {
   "cell_type": "code",
   "execution_count": 62,
   "metadata": {},
   "outputs": [
    {
     "name": "stdout",
     "output_type": "stream",
     "text": [
      "R-squared: (R2) 76.993\n",
      "Mean Absolute Error: 0.424\n",
      "Mean Square Error:(MSE) 0.308\n",
      "Root Mean Square Error:0.555\n",
      "Model Intercept:-2.918\n",
      "Model coefficients: [0.410 1.856 0.025 0.396 0.282 -0.678 2.225 0.360]\n"
     ]
    }
   ],
   "source": [
    "#Model Evaluation\n",
    "from sklearn import metrics\n",
    "meanAbErr = metrics.mean_absolute_error(y_test, y_pred)\n",
    "meanSqErr = metrics.mean_squared_error(y_test, y_pred)\n",
    "rootMeanSqErr = np.sqrt(metrics.mean_squared_error(y_test, y_pred))\n",
    "\n",
    "print('R-squared: (R2) {:.3f}'.format(model.score(X,y)*100))\n",
    "print('Mean Absolute Error: {:.3f}'.format(meanAbErr))\n",
    "print('Mean Square Error:(MSE) {:.3f}'.format(meanSqErr))\n",
    "print('Root Mean Square Error:{:.3f}'.format(rootMeanSqErr))\n",
    "print('Model Intercept:{:.3f}'.format(model.intercept_))\n",
    "print('Model coefficients:', model.coef_)"
   ]
  },
  {
   "cell_type": "markdown",
   "metadata": {},
   "source": [
    "#### Try the machine model with some inputs:"
   ]
  },
  {
   "cell_type": "code",
   "execution_count": 63,
   "metadata": {},
   "outputs": [],
   "source": [
    "# Format the any numpy array to 3 decimal points\n",
    "np.set_printoptions(formatter={'float':\"{0:0.3f}\".format})\n",
    "\n",
    "# Try the model with feature values where we know the output\n",
    "user_input=np.array([7.647,0.539,51.6,0.6,0.121,0.707,0.618,0.275])\n",
    "user_input=user_input.reshape(1,-1)"
   ]
  },
  {
   "cell_type": "code",
   "execution_count": 64,
   "metadata": {},
   "outputs": [
    {
     "data": {
      "text/plain": [
       "(1, 8)"
      ]
     },
     "execution_count": 64,
     "metadata": {},
     "output_type": "execute_result"
    }
   ],
   "source": [
    "user_input.shape"
   ]
  },
  {
   "cell_type": "code",
   "execution_count": 65,
   "metadata": {},
   "outputs": [
    {
     "data": {
      "text/plain": [
       "array([3.769])"
      ]
     },
     "execution_count": 65,
     "metadata": {},
     "output_type": "execute_result"
    }
   ],
   "source": [
    "user_predict=model.predict(user_input)\n",
    "user_predict"
   ]
  },
  {
   "cell_type": "code",
   "execution_count": 66,
   "metadata": {},
   "outputs": [
    {
     "name": "stdout",
     "output_type": "stream",
     "text": [
      "The real Life_Ladder is 4.758, compared to the predicted Life_Ladder: [3.769]\n"
     ]
    }
   ],
   "source": [
    "# checking the model against a Life_Ladder score that is known:\n",
    "print(f'The real Life_Ladder is 4.758, compared to the predicted Life_Ladder: {user_predict}')"
   ]
  },
  {
   "attachments": {
    "image.png": {
     "image/png": "[encoded data removed]"
    }
   },
   "cell_type": "markdown",
   "metadata": {},
   "source": [
    "## Result interpretation:\n",
    "#### <ins><b> R squared:</b></ins> Coefficient of determination: Shows how many points fall on the regression line. Here the value is 75.90%\n",
    "#### <ins><b> Mean Absolute Error:</b></ins> Absolute difference between the actual and the predicted values, 0.44 is close to 0, which is good\n",
    "#### <ins><b> Mean Square Error:</b></ins> descibes how close a regression line is to a set of points, by taking the distances from the point to the regression line and squaring them, 0.32 is close to 0, which indicates the model performance is good\n",
    " ![image.png](attachment:image.png)\n",
    "#### <ins><b> Root Mean Square Error:</b></ins> is an applied measure of the differences between numbers(population values and samples) which is predicted by an estimator. It describes the sample standard deviation of the differences between the predicted and observed values. 0.57 means that the model's performance is good"
   ]
  },
  {
   "cell_type": "markdown",
   "metadata": {
    "slideshow": {
     "slide_type": "slide"
    }
   },
   "source": [
    "## Residuals"
   ]
  },
  {
   "cell_type": "markdown",
   "metadata": {
    "slideshow": {
     "slide_type": "fragment"
    }
   },
   "source": [
    "Because we can't easily plot our line in 3D space, we can use a residual plot to check our predictions."
   ]
  },
  {
   "cell_type": "markdown",
   "metadata": {
    "slideshow": {
     "slide_type": "fragment"
    }
   },
   "source": [
    "Residuals are the difference between the true values of y and the predicted values of y.\n",
    "\n",
    "Source: [Interpreting Residual Plots](http://docs.statwing.com/interpreting-residual-plots-to-improve-your-regression/)"
   ]
  },
  {
   "cell_type": "code",
   "execution_count": 67,
   "metadata": {
    "slideshow": {
     "slide_type": "subslide"
    }
   },
   "outputs": [
    {
     "data": {
      "image/png": "[encoded data removed]",
      "text/plain": [
       "<Figure size 432x288 with 1 Axes>"
      ]
     },
     "metadata": {
      "needs_background": "light"
     },
     "output_type": "display_data"
    }
   ],
   "source": [
    "predictions = model.predict(X)\n",
    "# Plot Residuals\n",
    "plt.scatter(predictions, predictions - y)\n",
    "plt.xlabel('predictions made by the model')\n",
    "plt.ylabel('residuals-prediction accuracy')\n",
    "plt.hlines(y=0, xmin=predictions.min(), xmax=predictions.max(), color='red')\n",
    "plt.show()"
   ]
  },
  {
   "cell_type": "markdown",
   "metadata": {},
   "source": [
    "We want our predictions to be close to zero on the y-axis in this plot."
   ]
  },
  {
   "cell_type": "markdown",
   "metadata": {},
   "source": [
    "### Integration to Flask"
   ]
  },
  {
   "cell_type": "code",
   "execution_count": 31,
   "metadata": {},
   "outputs": [],
   "source": [
    "import pickle"
   ]
  },
  {
   "cell_type": "code",
   "execution_count": null,
   "metadata": {},
   "outputs": [],
   "source": [
    "pickle.dump(model,open('model.pkl', 'wb'))"
   ]
  },
  {
   "cell_type": "code",
   "execution_count": 34,
   "metadata": {},
   "outputs": [],
   "source": [
    "model_1=pickle.load(open('model.pkl','rb'))"
   ]
  },
  {
   "cell_type": "markdown",
   "metadata": {},
   "source": [
    " @app that whenever a user visits our app domain (localhost:5000 for local servers) at the given .route(), execute the home() function. Flask uses the Jinja template library to render templates. In our application, we will use templates to render HTML which will display in the browser."
   ]
  }
 ],
 "metadata": {
  "anaconda-cloud": {},
  "kernelspec": {
   "display_name": "mlenv",
   "language": "python",
   "name": "mlenv"
  },
  "language_info": {
   "codemirror_mode": {
    "name": "ipython",
    "version": 3
   },
   "file_extension": ".py",
   "mimetype": "text/x-python",
   "name": "python",
   "nbconvert_exporter": "python",
   "pygments_lexer": "ipython3",
   "version": "3.7.10"
  },
  "varInspector": {
   "cols": {
    "lenName": 16,
    "lenType": 16,
    "lenVar": 40
   },
   "kernels_config": {
    "python": {
     "delete_cmd_postfix": "",
     "delete_cmd_prefix": "del ",
     "library": "var_list.py",
     "varRefreshCmd": "print(var_dic_list())"
    },
    "r": {
     "delete_cmd_postfix": ") ",
     "delete_cmd_prefix": "rm(",
     "library": "var_list.r",
     "varRefreshCmd": "cat(var_dic_list()) "
    }
   },
   "types_to_exclude": [
    "module",
    "function",
    "builtin_function_or_method",
    "instance",
    "_Feature"
   ],
   "window_display": false
  }
 },
 "nbformat": 4,
 "nbformat_minor": 2
}
